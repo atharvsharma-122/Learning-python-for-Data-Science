{
 "cells": [
  {
   "cell_type": "markdown",
   "metadata": {
    "id": "YVTP9EUMYj2m"
   },
   "source": [
    "print() --> Dsiplay the output to the screen"
   ]
  },
  {
   "cell_type": "code",
   "execution_count": null,
   "metadata": {
    "colab": {
     "base_uri": "https://localhost:8080/"
    },
    "executionInfo": {
     "elapsed": 7,
     "status": "ok",
     "timestamp": 1756010688942,
     "user": {
      "displayName": "Atharv Sharma",
      "userId": "16980457346691857217"
     },
     "user_tz": -330
    },
    "id": "aI7014uLYuKt",
    "outputId": "1e336a94-1322-495b-a7a0-30cac15ecc50"
   },
   "outputs": [
    {
     "name": "stdout",
     "output_type": "stream",
     "text": [
      "Hello World\n"
     ]
    }
   ],
   "source": [
    "print(\"Hello World\")"
   ]
  },
  {
   "cell_type": "markdown",
   "metadata": {},
   "source": [
    "IMP POINT:- sep --> controls separater between items... \n",
    "            end -->controls what happen after printing..."
   ]
  },
  {
   "cell_type": "markdown",
   "metadata": {
    "id": "TYlraqM-Zswh"
   },
   "source": [
    "end parameter :- By default , the print function uses \"end\" parameter with the new line."
   ]
  },
  {
   "cell_type": "code",
   "execution_count": null,
   "metadata": {
    "colab": {
     "base_uri": "https://localhost:8080/"
    },
    "executionInfo": {
     "elapsed": 11,
     "status": "ok",
     "timestamp": 1756010688955,
     "user": {
      "displayName": "Atharv Sharma",
      "userId": "16980457346691857217"
     },
     "user_tz": -330
    },
    "id": "W0ZAmv33Y20b",
    "outputId": "651ba76c-b225-4e1f-f332-f559919fefbc"
   },
   "outputs": [
    {
     "name": "stdout",
     "output_type": "stream",
     "text": [
      "Hello\n",
      "World\n"
     ]
    }
   ],
   "source": [
    "print(\"Hello\")\n",
    "print(\"World\")"
   ]
  },
  {
   "cell_type": "code",
   "execution_count": null,
   "metadata": {
    "colab": {
     "base_uri": "https://localhost:8080/"
    },
    "executionInfo": {
     "elapsed": 246,
     "status": "ok",
     "timestamp": 1756010811623,
     "user": {
      "displayName": "Atharv Sharma",
      "userId": "16980457346691857217"
     },
     "user_tz": -330
    },
    "id": "rOiQ4nB4ZZ7J",
    "outputId": "e39679ea-a76b-4e19-a7db-c4551ea76370"
   },
   "outputs": [
    {
     "name": "stdout",
     "output_type": "stream",
     "text": [
      "Hello World\n"
     ]
    }
   ],
   "source": [
    "print(\"Hello\", end = \" \")\n",
    "print(\"World\")"
   ]
  },
  {
   "cell_type": "markdown",
   "metadata": {
    "id": "kZ-Ypps_aSOH"
   },
   "source": [
    "Print - Python-Programming"
   ]
  },
  {
   "cell_type": "code",
   "execution_count": null,
   "metadata": {
    "colab": {
     "base_uri": "https://localhost:8080/"
    },
    "executionInfo": {
     "elapsed": 11,
     "status": "ok",
     "timestamp": 1756011085212,
     "user": {
      "displayName": "Atharv Sharma",
      "userId": "16980457346691857217"
     },
     "user_tz": -330
    },
    "id": "uCMxwrHNaR32",
    "outputId": "47444ba5-514a-4eb6-cf41-ca6bb4f90e84"
   },
   "outputs": [
    {
     "name": "stdout",
     "output_type": "stream",
     "text": [
      "Python-programming\n"
     ]
    }
   ],
   "source": [
    "print(\"Python\", end = \"-\")\n",
    "print(\"programming\")"
   ]
  },
  {
   "cell_type": "markdown",
   "metadata": {
    "id": "dWgjap-aauW1"
   },
   "source": [
    "'sep' parameter"
   ]
  },
  {
   "cell_type": "code",
   "execution_count": null,
   "metadata": {
    "colab": {
     "base_uri": "https://localhost:8080/"
    },
    "executionInfo": {
     "elapsed": 22,
     "status": "ok",
     "timestamp": 1756011210821,
     "user": {
      "displayName": "Atharv Sharma",
      "userId": "16980457346691857217"
     },
     "user_tz": -330
    },
    "id": "5w61CT9ka86J",
    "outputId": "fda2d53a-982c-44b0-b0ab-c480d7b3e088"
   },
   "outputs": [
    {
     "name": "stdout",
     "output_type": "stream",
     "text": [
      "apple banana orange\n"
     ]
    }
   ],
   "source": [
    "print(\"apple\", \"banana\", \"orange\")"
   ]
  },
  {
   "cell_type": "code",
   "execution_count": null,
   "metadata": {
    "colab": {
     "base_uri": "https://localhost:8080/"
    },
    "executionInfo": {
     "elapsed": 16,
     "status": "ok",
     "timestamp": 1756011280282,
     "user": {
      "displayName": "Atharv Sharma",
      "userId": "16980457346691857217"
     },
     "user_tz": -330
    },
    "id": "sIrKzWhebDmV",
    "outputId": "257fcf2a-ef36-4aa1-9d9e-610036c3ec5f"
   },
   "outputs": [
    {
     "name": "stdout",
     "output_type": "stream",
     "text": [
      "apple,banana,orange\n"
     ]
    }
   ],
   "source": [
    "print(\"apple\", \"banana\", \"orange\", sep = ',')"
   ]
  },
  {
   "cell_type": "markdown",
   "metadata": {
    "id": "WUv4afjocPV3"
   },
   "source": [
    "input() function {means input soemthing in our py)"
   ]
  },
  {
   "cell_type": "code",
   "execution_count": null,
   "metadata": {
    "colab": {
     "base_uri": "https://localhost:8080/"
    },
    "executionInfo": {
     "elapsed": 6158,
     "status": "ok",
     "timestamp": 1756011635486,
     "user": {
      "displayName": "Atharv Sharma",
      "userId": "16980457346691857217"
     },
     "user_tz": -330
    },
    "id": "BZZ1_DnIcaoo",
    "outputId": "5b0afe38-c02d-4c3c-ef38-773bdb5e341a"
   },
   "outputs": [
    {
     "name": "stdout",
     "output_type": "stream",
     "text": [
      "Enter your name: Atharv\n",
      "Hey, my name is\n"
     ]
    }
   ],
   "source": [
    "user_input = input(\"Enter your name: \")\n",
    "print(\"Hey, my name is\")"
   ]
  },
  {
   "cell_type": "code",
   "execution_count": null,
   "metadata": {
    "colab": {
     "base_uri": "https://localhost:8080/"
    },
    "executionInfo": {
     "elapsed": 8688,
     "status": "ok",
     "timestamp": 1756011771766,
     "user": {
      "displayName": "Atharv Sharma",
      "userId": "16980457346691857217"
     },
     "user_tz": -330
    },
    "id": "yCQ8V60xcysJ",
    "outputId": "1fffca21-afd2-4978-d390-6b7d8560f09f"
   },
   "outputs": [
    {
     "name": "stdout",
     "output_type": "stream",
     "text": [
      "Enter your name: Sharma\n",
      "Hey , My name is  Sharma\n"
     ]
    }
   ],
   "source": [
    "user_input = input(\"Enter your name: \")\n",
    "print(\"Hey , My name is  \"+ user_input)"
   ]
  },
  {
   "cell_type": "code",
   "execution_count": null,
   "metadata": {
    "colab": {
     "base_uri": "https://localhost:8080/"
    },
    "executionInfo": {
     "elapsed": 20,
     "status": "ok",
     "timestamp": 1756012036611,
     "user": {
      "displayName": "Atharv Sharma",
      "userId": "16980457346691857217"
     },
     "user_tz": -330
    },
    "id": "THrqaYStdUBO",
    "outputId": "c35a6c7b-4c78-459a-bf31-3ced9f7cb27f"
   },
   "outputs": [
    {
     "name": "stdout",
     "output_type": "stream",
     "text": [
      "Paliya\n"
     ]
    }
   ],
   "source": [
    "user_input = (\"Paliya\")\n",
    "print(user_input)"
   ]
  },
  {
   "cell_type": "markdown",
   "metadata": {
    "id": "x7yOE-h_eJ8Z"
   },
   "source": [
    "HOW THIS HAPPEN ?? YOU WRITE SHARMA FIRST BUT THEN AFTER USING user_input IT WRITTEN Paliya --> IT IS BECOZ NEW STRING ALLOCATE HO GYA OR HUMNE SAME VARIABLE USE KIYA HAI TOH WO WO CONNECTION UPER SE HATKE NEECHE AA JAAYGA OR WO UPER WALA GARABAGE COLLECTOR AAKE UPER WAALI STRING KO FREE UP KAR DEGA"
   ]
  },
  {
   "cell_type": "code",
   "execution_count": null,
   "metadata": {
    "colab": {
     "base_uri": "https://localhost:8080/"
    },
    "executionInfo": {
     "elapsed": 15,
     "status": "ok",
     "timestamp": 1756012253951,
     "user": {
      "displayName": "Atharv Sharma",
      "userId": "16980457346691857217"
     },
     "user_tz": -330
    },
    "id": "D2b8gKlffEGj",
    "outputId": "49ba87a7-e712-4d09-d062-e77d197d11be"
   },
   "outputs": [
    {
     "name": "stdout",
     "output_type": "stream",
     "text": [
      "10\n"
     ]
    }
   ],
   "source": [
    "num = 10\n",
    "print(num)"
   ]
  },
  {
   "cell_type": "code",
   "execution_count": null,
   "metadata": {
    "colab": {
     "base_uri": "https://localhost:8080/"
    },
    "executionInfo": {
     "elapsed": 22,
     "status": "ok",
     "timestamp": 1756012296199,
     "user": {
      "displayName": "Atharv Sharma",
      "userId": "16980457346691857217"
     },
     "user_tz": -330
    },
    "id": "eQ2Ci0xHfJ2Q",
    "outputId": "640e4b08-72b0-4282-c79d-952267ad90ec"
   },
   "outputs": [
    {
     "name": "stdout",
     "output_type": "stream",
     "text": [
      "15\n"
     ]
    }
   ],
   "source": [
    "num = 15\n",
    "print(num)"
   ]
  },
  {
   "cell_type": "markdown",
   "metadata": {
    "id": "eeer8cwhgw5Q"
   },
   "source": [
    "Comments:-\n",
    "These are of two types:\n",
    "[1] Single line comment --> #\n",
    "[2] Multi line comment -->"
   ]
  },
  {
   "cell_type": "markdown",
   "metadata": {},
   "source": []
  },
  {
   "cell_type": "code",
   "execution_count": null,
   "metadata": {
    "colab": {
     "base_uri": "https://localhost:8080/"
    },
    "executionInfo": {
     "elapsed": 16,
     "status": "ok",
     "timestamp": 1756012922696,
     "user": {
      "displayName": "Atharv Sharma",
      "userId": "16980457346691857217"
     },
     "user_tz": -330
    },
    "id": "DEyY3NpQg049",
    "outputId": "ece61357-7f6f-4f8f-d7c0-ae5dbe0199f9"
   },
   "outputs": [
    {
     "name": "stdout",
     "output_type": "stream",
     "text": [
      "Hello\n"
     ]
    }
   ],
   "source": [
    "#This is the single line comment\n",
    "print(\"Hello\")"
   ]
  },
  {
   "cell_type": "code",
   "execution_count": null,
   "metadata": {
    "colab": {
     "base_uri": "https://localhost:8080/"
    },
    "executionInfo": {
     "elapsed": 24,
     "status": "ok",
     "timestamp": 1756013021602,
     "user": {
      "displayName": "Atharv Sharma",
      "userId": "16980457346691857217"
     },
     "user_tz": -330
    },
    "id": "W4XGPZRZhtkW",
    "outputId": "ed3254a8-3c7a-4245-b5a3-b24367254cdc"
   },
   "outputs": [
    {
     "name": "stdout",
     "output_type": "stream",
     "text": [
      "Hello Atharv\n"
     ]
    }
   ],
   "source": [
    "'''\n",
    "This is the multi - line comment it is enclosed within triple quotes. this is useful mainly for documenting sections of the code\n",
    "'''\n",
    "print(\"Hello Atharv\")"
   ]
  },
  {
   "cell_type": "markdown",
   "metadata": {
    "id": "W5KnEiGyiMuq"
   },
   "source": [
    "INDENTATION :- Structure of the the code block. (THIS IS THE MOST IMP. thing in py)"
   ]
  },
  {
   "cell_type": "code",
   "execution_count": null,
   "metadata": {
    "colab": {
     "base_uri": "https://localhost:8080/",
     "height": 106
    },
    "executionInfo": {
     "elapsed": 16,
     "status": "error",
     "timestamp": 1756013195179,
     "user": {
      "displayName": "Atharv Sharma",
      "userId": "16980457346691857217"
     },
     "user_tz": -330
    },
    "id": "WE_EeLo6iiMr",
    "outputId": "6d96e54a-d712-424a-e457-02312193daa0"
   },
   "outputs": [
    {
     "ename": "IndentationError",
     "evalue": "expected an indented block after 'if' statement on line 2 (ipython-input-196846474.py, line 3)",
     "output_type": "error",
     "traceback": [
      "\u001b[0;36m  File \u001b[0;32m\"/tmp/ipython-input-196846474.py\"\u001b[0;36m, line \u001b[0;32m3\u001b[0m\n\u001b[0;31m    print(\"TRUE\")\u001b[0m\n\u001b[0m    ^\u001b[0m\n\u001b[0;31mIndentationError\u001b[0m\u001b[0;31m:\u001b[0m expected an indented block after 'if' statement on line 2\n"
     ]
    }
   ],
   "source": [
    "x = 5\n",
    "if x > 3:\n",
    "print(\"TRUE\")"
   ]
  },
  {
   "cell_type": "markdown",
   "metadata": {
    "id": "VWcoemWjix8v"
   },
   "source": [
    "See here we don't use indentation(means proper spacing) so the indentatioin error occur."
   ]
  },
  {
   "cell_type": "code",
   "execution_count": null,
   "metadata": {
    "colab": {
     "base_uri": "https://localhost:8080/"
    },
    "executionInfo": {
     "elapsed": 56,
     "status": "ok",
     "timestamp": 1756013720646,
     "user": {
      "displayName": "Atharv Sharma",
      "userId": "16980457346691857217"
     },
     "user_tz": -330
    },
    "id": "MksyViBAiwCE",
    "outputId": "99b8df20-d813-41db-fe51-9032f300b956"
   },
   "outputs": [
    {
     "name": "stdout",
     "output_type": "stream",
     "text": [
      "TRUE\n"
     ]
    }
   ],
   "source": [
    "x = 5\n",
    "if x > 3:\n",
    "    print(\"TRUE\")"
   ]
  },
  {
   "cell_type": "markdown",
   "metadata": {
    "id": "xCnMB9uclg3u"
   },
   "source": [
    "In py we can assign multiple values in one line..."
   ]
  },
  {
   "cell_type": "code",
   "execution_count": null,
   "metadata": {
    "colab": {
     "base_uri": "https://localhost:8080/"
    },
    "executionInfo": {
     "elapsed": 14,
     "status": "ok",
     "timestamp": 1756014014320,
     "user": {
      "displayName": "Atharv Sharma",
      "userId": "16980457346691857217"
     },
     "user_tz": -330
    },
    "id": "iXB9bkGAlr2U",
    "outputId": "63e75211-90d6-4214-f5de-427b788dd4ea"
   },
   "outputs": [
    {
     "name": "stdout",
     "output_type": "stream",
     "text": [
      "10\n",
      "20\n",
      "30\n"
     ]
    }
   ],
   "source": [
    "x, y, z = 10, 20, 30\n",
    "print(x)\n",
    "print(y)\n",
    "print(z)"
   ]
  },
  {
   "cell_type": "code",
   "execution_count": null,
   "metadata": {
    "colab": {
     "base_uri": "https://localhost:8080/"
    },
    "executionInfo": {
     "elapsed": 15,
     "status": "ok",
     "timestamp": 1756014053398,
     "user": {
      "displayName": "Atharv Sharma",
      "userId": "16980457346691857217"
     },
     "user_tz": -330
    },
    "id": "PRiRJfmVl4f1",
    "outputId": "3011449b-7067-45e0-92ed-4e826478bcd6"
   },
   "outputs": [
    {
     "name": "stdout",
     "output_type": "stream",
     "text": [
      "hello\n",
      "hello\n",
      "hello\n"
     ]
    }
   ],
   "source": [
    "x = y = z = \"hello\"\n",
    "print(x)\n",
    "print(y)\n",
    "print(z)"
   ]
  },
  {
   "cell_type": "markdown",
   "metadata": {
    "id": "LwdM_N2AmK_v"
   },
   "source": [
    "what if there is 3 variable and we got only 2 values then what will we be the output."
   ]
  },
  {
   "cell_type": "code",
   "execution_count": null,
   "metadata": {
    "colab": {
     "base_uri": "https://localhost:8080/",
     "height": 158
    },
    "executionInfo": {
     "elapsed": 38,
     "status": "error",
     "timestamp": 1756014299245,
     "user": {
      "displayName": "Atharv Sharma",
      "userId": "16980457346691857217"
     },
     "user_tz": -330
    },
    "id": "R4iYfQ4smaCt",
    "outputId": "b1c06b7c-b4d6-4978-80c1-8e05e8408906"
   },
   "outputs": [
    {
     "ename": "TypeError",
     "evalue": "cannot unpack non-iterable int object",
     "output_type": "error",
     "traceback": [
      "\u001b[0;31m---------------------------------------------------------------------------\u001b[0m",
      "\u001b[0;31mTypeError\u001b[0m                                 Traceback (most recent call last)",
      "\u001b[0;32m/tmp/ipython-input-496493715.py\u001b[0m in \u001b[0;36m<cell line: 0>\u001b[0;34m()\u001b[0m\n\u001b[0;32m----> 1\u001b[0;31m \u001b[0mx\u001b[0m\u001b[0;34m,\u001b[0m \u001b[0my\u001b[0m\u001b[0;34m,\u001b[0m \u001b[0mz\u001b[0m\u001b[0;34m=\u001b[0m \u001b[0;36m10\u001b[0m\u001b[0;34m\u001b[0m\u001b[0;34m\u001b[0m\u001b[0m\n\u001b[0m\u001b[1;32m      2\u001b[0m \u001b[0mprint\u001b[0m\u001b[0;34m(\u001b[0m\u001b[0mx\u001b[0m\u001b[0;34m)\u001b[0m\u001b[0;34m\u001b[0m\u001b[0;34m\u001b[0m\u001b[0m\n",
      "\u001b[0;31mTypeError\u001b[0m: cannot unpack non-iterable int object"
     ]
    }
   ],
   "source": [
    "x, y, z= 10, 20\n",
    "print(z)"
   ]
  },
  {
   "cell_type": "markdown",
   "metadata": {
    "id": "5NyFqgkzpTh0"
   },
   "source": [
    "Data type:- It see the nature of the data that any variable can hold"
   ]
  },
  {
   "cell_type": "markdown",
   "metadata": {
    "id": "42sOJZRppskR"
   },
   "source": [
    "Numbers"
   ]
  },
  {
   "cell_type": "code",
   "execution_count": null,
   "metadata": {
    "id": "gDhpI1vapyBa"
   },
   "outputs": [],
   "source": [
    "x = 10 #int\n",
    "y = 3.14 #float\n",
    "z = 2+3j # complex\n"
   ]
  },
  {
   "cell_type": "code",
   "execution_count": null,
   "metadata": {
    "colab": {
     "base_uri": "https://localhost:8080/"
    },
    "executionInfo": {
     "elapsed": 23,
     "status": "ok",
     "timestamp": 1756015827306,
     "user": {
      "displayName": "Atharv Sharma",
      "userId": "16980457346691857217"
     },
     "user_tz": -330
    },
    "id": "Hs8ZkiVUqZ5C",
    "outputId": "39c48d3f-4d75-4a49-cfc1-884d574da1b9"
   },
   "outputs": [
    {
     "data": {
      "text/plain": [
       "complex"
      ]
     },
     "execution_count": 52,
     "metadata": {},
     "output_type": "execute_result"
    }
   ],
   "source": [
    "type(z)"
   ]
  },
  {
   "cell_type": "code",
   "execution_count": null,
   "metadata": {
    "colab": {
     "base_uri": "https://localhost:8080/"
    },
    "executionInfo": {
     "elapsed": 17,
     "status": "ok",
     "timestamp": 1756015828544,
     "user": {
      "displayName": "Atharv Sharma",
      "userId": "16980457346691857217"
     },
     "user_tz": -330
    },
    "id": "wW54JG6bqeCl",
    "outputId": "897b3f6b-0937-4184-a355-5767c105f64d"
   },
   "outputs": [
    {
     "data": {
      "text/plain": [
       "float"
      ]
     },
     "execution_count": 53,
     "metadata": {},
     "output_type": "execute_result"
    }
   ],
   "source": [
    "type(y)"
   ]
  },
  {
   "cell_type": "code",
   "execution_count": null,
   "metadata": {
    "colab": {
     "base_uri": "https://localhost:8080/"
    },
    "executionInfo": {
     "elapsed": 18,
     "status": "ok",
     "timestamp": 1756015830259,
     "user": {
      "displayName": "Atharv Sharma",
      "userId": "16980457346691857217"
     },
     "user_tz": -330
    },
    "id": "Xvmx3VbqqgBc",
    "outputId": "c12de67b-f7b8-4954-bd1c-acc911513c8a"
   },
   "outputs": [
    {
     "data": {
      "text/plain": [
       "int"
      ]
     },
     "execution_count": 54,
     "metadata": {},
     "output_type": "execute_result"
    }
   ],
   "source": [
    "type(x)"
   ]
  },
  {
   "cell_type": "markdown",
   "metadata": {
    "id": "uyVsKHMOqqtZ"
   },
   "source": [
    "j is a reserved keyword..."
   ]
  },
  {
   "cell_type": "code",
   "execution_count": null,
   "metadata": {
    "colab": {
     "base_uri": "https://localhost:8080/"
    },
    "executionInfo": {
     "elapsed": 25,
     "status": "ok",
     "timestamp": 1756015843999,
     "user": {
      "displayName": "Atharv Sharma",
      "userId": "16980457346691857217"
     },
     "user_tz": -330
    },
    "id": "b9gaRIBCsJ14",
    "outputId": "aa763aad-0d07-42b4-b467-1aea9fd09051"
   },
   "outputs": [
    {
     "data": {
      "text/plain": [
       "2.0"
      ]
     },
     "execution_count": 55,
     "metadata": {},
     "output_type": "execute_result"
    }
   ],
   "source": [
    "z.real"
   ]
  },
  {
   "cell_type": "code",
   "execution_count": null,
   "metadata": {
    "colab": {
     "base_uri": "https://localhost:8080/"
    },
    "executionInfo": {
     "elapsed": 9,
     "status": "ok",
     "timestamp": 1756015848363,
     "user": {
      "displayName": "Atharv Sharma",
      "userId": "16980457346691857217"
     },
     "user_tz": -330
    },
    "id": "NegmRQYVsgfj",
    "outputId": "a991edad-afb1-4043-b0d9-33675c15b350"
   },
   "outputs": [
    {
     "data": {
      "text/plain": [
       "3.0"
      ]
     },
     "execution_count": 56,
     "metadata": {},
     "output_type": "execute_result"
    }
   ],
   "source": [
    "z.imag"
   ]
  },
  {
   "cell_type": "markdown",
   "metadata": {
    "id": "nege0_jTs-mp"
   },
   "source": [
    "String type:- Sequence of character which are enclosed in a single or double quotes!!!"
   ]
  },
  {
   "cell_type": "code",
   "execution_count": null,
   "metadata": {
    "colab": {
     "base_uri": "https://localhost:8080/"
    },
    "executionInfo": {
     "elapsed": 12,
     "status": "ok",
     "timestamp": 1756015946724,
     "user": {
      "displayName": "Atharv Sharma",
      "userId": "16980457346691857217"
     },
     "user_tz": -330
    },
    "id": "pyOFcR6YtHpL",
    "outputId": "06ba9493-3f96-42bc-cebe-d14c9d073a09"
   },
   "outputs": [
    {
     "data": {
      "text/plain": [
       "str"
      ]
     },
     "execution_count": 57,
     "metadata": {},
     "output_type": "execute_result"
    }
   ],
   "source": [
    "name = \"john\"\n",
    "type(name)"
   ]
  },
  {
   "cell_type": "code",
   "execution_count": null,
   "metadata": {
    "colab": {
     "base_uri": "https://localhost:8080/"
    },
    "executionInfo": {
     "elapsed": 16,
     "status": "ok",
     "timestamp": 1756015968908,
     "user": {
      "displayName": "Atharv Sharma",
      "userId": "16980457346691857217"
     },
     "user_tz": -330
    },
    "id": "n3eEN3SYtPvq",
    "outputId": "daf7773e-6ea9-4381-83de-2fb3b47ac207"
   },
   "outputs": [
    {
     "data": {
      "text/plain": [
       "str"
      ]
     },
     "execution_count": 58,
     "metadata": {},
     "output_type": "execute_result"
    }
   ],
   "source": [
    "name = 'john'\n",
    "type(name)"
   ]
  },
  {
   "cell_type": "markdown",
   "metadata": {
    "id": "deFF0iOEwnEG"
   },
   "source": [
    "See here we are writing type in the print function that's why it is showing the lil bit different output."
   ]
  },
  {
   "cell_type": "code",
   "execution_count": 59,
   "metadata": {
    "colab": {
     "base_uri": "https://localhost:8080/"
    },
    "executionInfo": {
     "elapsed": 14,
     "status": "ok",
     "timestamp": 1756016826607,
     "user": {
      "displayName": "Atharv Sharma",
      "userId": "16980457346691857217"
     },
     "user_tz": -330
    },
    "id": "T9fCBzcWwexY",
    "outputId": "45e41e38-65cc-4e88-fc74-704b7ad89f77"
   },
   "outputs": [
    {
     "name": "stdout",
     "output_type": "stream",
     "text": [
      "<class 'str'>\n"
     ]
    }
   ],
   "source": [
    "name = \"john\"\n",
    "print(type(name))"
   ]
  },
  {
   "cell_type": "code",
   "execution_count": null,
   "metadata": {
    "id": "64Hx_xJxw0o2"
   },
   "outputs": [],
   "source": []
  }
 ],
 "metadata": {
  "colab": {
   "authorship_tag": "ABX9TyP4omFxqHvIV0eP87UyH3eq",
   "provenance": []
  },
  "kernelspec": {
   "display_name": "Python 3",
   "name": "python3"
  },
  "language_info": {
   "name": "python"
  }
 },
 "nbformat": 4,
 "nbformat_minor": 0
}

